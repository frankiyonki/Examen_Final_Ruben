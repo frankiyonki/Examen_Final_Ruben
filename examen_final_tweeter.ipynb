{
  "metadata": {
    "kernelspec": {
      "name": "python",
      "display_name": "Python (Pyodide)",
      "language": "python"
    },
    "language_info": {
      "codemirror_mode": {
        "name": "python",
        "version": 3
      },
      "file_extension": ".py",
      "mimetype": "text/x-python",
      "name": "python",
      "nbconvert_exporter": "python",
      "pygments_lexer": "ipython3",
      "version": "3.8"
    }
  },
  "nbformat_minor": 5,
  "nbformat": 4,
  "cells": [
    {
      "cell_type": "markdown",
      "source": "\n",
      "metadata": {},
      "id": "a35eeb9f-df70-4ab1-a243-2d2025888eb0"
    },
    {
      "cell_type": "code",
      "source": "%matplotlib inline\nimport matplotlib.pyplot as plt\nfrom plotly import graph_objs as go\nimport plotly.express as px\nimport plotly.figure_factory as ff\nfrom collections import Counter\nfrom PIL import Image\nfrom wordcloud import WordCloud, STOPWORDS, ImageColorGenerator\nimport nltk\nfrom nltk.corpus import stopwords\nfrom tqdm import tqdm\nimport os\nimport spacy\nfrom spacy.util import compounding\nfrom spacy.util import minibatch\nimport random\nimport warnings\nimport scipy.stats as stats\n\nwarnings.filterwarnings(\"ignore\")\n\n",
      "metadata": {},
      "execution_count": null,
      "outputs": [],
      "id": "fe55883a-6887-43dd-9498-5333a51799e2"
    },
    {
      "cell_type": "code",
      "source": "#funcion para generar colores aleatorios\n\ndef generar_colores_aleatorios(n):\n    colores = []\n    for _ in range(n):\n        color = \"#{:06x}\".format(random.randint(0, 0xFFFFFF))\n        colores.append(color)\n    return colores\n",
      "metadata": {
        "trusted": true
      },
      "execution_count": null,
      "outputs": [],
      "id": "4fec60fa-e3ed-4fc1-b968-440ed8d4c39e"
    },
    {
      "cell_type": "code",
      "source": "# Lectura de los datos\ntrain = pd.read_csv('/kaggle/input/tweet-sentiment-extraction/train.csv')\ntest = pd.read_csv('/kaggle/input/tweet-sentiment-extraction/test.csv')\nss = pd.read_csv('/kaggle/input/tweet-sentiment-extraction/sample_submission.csv')\n\n# Eliminar valores nulos del archivo de entrenamiento\ntrain.dropna(inplace=True)",
      "metadata": {
        "trusted": true
      },
      "execution_count": null,
      "outputs": [],
      "id": "6a4c2b82-3c93-4c26-96b5-5d2a0819c6b1"
    },
    {
      "cell_type": "markdown",
      "source": "Vamos a seleccionar train como conjunto de datos a analizar, para ello debe analizar la distribución de tweets en el conjunto y Dibujar un gráfico de embudo para una mejor visualización.",
      "metadata": {},
      "id": "b9670d85-ef29-4dfd-b4b5-e76d279c1f1a"
    },
    {
      "cell_type": "code",
      "source": "# Contar la cantidad de tweets por cada tipo de sentimiento\nsentiment_counts = train['sentiment'].value_counts()\n\n# Crear una lista con los nombres de los sentimientos\nsentiments = sentiment_counts.index.tolist()\n\n# Crear una lista con los valores de los conteos de tweets\ntweet_counts = sentiment_counts.tolist()\n\n# Crear el gráfico de embudo\nfig = plt.figure(figsize=(8, 6))\nplt.bar(sentiments, tweet_counts)\nplt.xlabel('Sentimiento')\nplt.ylabel('Cantidad de tweets')\nplt.title('Distribución de tweets por sentimiento en el conjunto de datos \"train\"')\nplt.show()",
      "metadata": {
        "trusted": true
      },
      "execution_count": null,
      "outputs": [],
      "id": "d7efa58a-8b1c-4165-94f4-a9791675b2d4"
    },
    {
      "cell_type": "code",
      "source": "# Función para calcular la similitud de Jaccard\ndef jaccard(str1, str2):\n    a = set(str1.lower().split())\n    b = set(str2.lower().split())\n    c = a.intersection(b)\n    return float(len(c)) / (len(a) + len(b) - len(c))\n\n# Agregar columna con la diferencia en el número de palabras\ntrain['num_words_text'] = train['text'].apply(lambda x: len(str(x).split()))\ntrain['num_words_selected_text'] = train['selected_text'].apply(lambda x: len(str(x).split()))\ntrain['diff_num_words'] = train['num_words_text'] - train['num_words_selected_text']\n\n# Agregar columna con las puntuaciones de similitud de Jaccard\ntrain['jaccard_similarity'] = train.apply(lambda x: jaccard(str(x['text']), str(x['selected_text'])), axis=1)\n\n# Gráfico de dispersión: Diferencia en el número de palabras vs. Puntuaciones de similitud de Jaccard\nplt.figure(figsize=(8, 6))\nplt.scatter(train['diff_num_words'], train['jaccard_similarity'], alpha=0.5)\nplt.xlabel('Diferencia en el número de palabras')\nplt.ylabel('Similitud de Jaccard')\nplt.title('Relación entre la diferencia en el número de palabras y la similitud de Jaccard')\nplt.show()\n",
      "metadata": {},
      "execution_count": null,
      "outputs": [],
      "id": "c315c843-1565-41e3-8888-736d5c304fd1"
    },
    {
      "cell_type": "markdown",
      "source": "",
      "metadata": {},
      "id": "19e227a6-41f4-4aad-be08-1b3e27921633"
    },
    {
      "cell_type": "code",
      "source": "# Calcular la curtosis y la asimetría de los tweets positivos\npositivos = train[train['sentiment'] == 'positive']\ncurtosis_positivos = stats.kurtosis(positivos['jaccard_similarity'])\nasimetria_positivos = stats.skew(positivos['jaccard_similarity'])\n\n# Calcular la curtosis y la asimetría de los tweets negativos\nnegativos = train[train['sentiment'] == 'negative']\ncurtosis_negativos = stats.kurtosis(negativos['jaccard_similarity'])\nasimetria_negativos = stats.skew(negativos['jaccard_similarity'])\n\n# Calcular la curtosis y la asimetría de los tweets neutros\nneutros = train[train['sentiment'] == 'neutral']\ncurtosis_neutros = stats.kurtosis(neutros['jaccard_similarity'])\nasimetria_neutros = stats.skew(neutros['jaccard_similarity'])\n\n# Imprimir las conclusiones\nprint(\"Conclusiones:\")\nprint(\"a. Los tweets positivos tienen una alta curtosis: {:.2f}, y una asimetría: {:.2f}\".format(curtosis_positivos, asimetria_positivos))\nprint(\"b. Los tweets negativos tienen una alta curtosis: {:.2f}, y una asimetría: {:.2f}\".format(curtosis_negativos, asimetria_negativos))\nprint(\"c. Los tweets neutros tienen una baja curtosis: {:.2f}, y una asimetría: {:.2f}\".format(curtosis_neutros, asimetria_neutros))",
      "metadata": {},
      "execution_count": null,
      "outputs": [],
      "id": "6000d86c-8a4c-47b5-9d1a-0fc7d3aecce8"
    },
    {
      "cell_type": "markdown",
      "source": "Visualización de la distribución de tweets por sentimiento:",
      "metadata": {},
      "id": "a6e6c95c-ac7b-4f8e-a191-b28ae08ffe48"
    },
    {
      "cell_type": "code",
      "source": "sentimientos = train['sentiment'].value_counts()\nfig = px.bar(x=sentimientos.index, y=sentimientos.values, color=sentimientos.index)\nfig.update_layout(title='Distribución de tweets por sentimiento')\nfig.show()\n",
      "metadata": {},
      "execution_count": null,
      "outputs": [],
      "id": "8bf1c574-5e90-44d0-bc70-c18d38e90b3b"
    },
    {
      "cell_type": "markdown",
      "source": "Gráfico de embudo de tweets:",
      "metadata": {},
      "id": "24d793e5-1d39-4f48-9f78-d342dd0236b0"
    },
    {
      "cell_type": "code",
      "source": "fig = go.Figure(go.Funnelarea(\n    text=train['sentiment'].value_counts().index,\n    values=train['sentiment'].value_counts().values\n))\nfig.update_layout(title='Gráfico de embudo de tweets por sentimiento')\nfig.show()",
      "metadata": {},
      "execution_count": null,
      "outputs": [],
      "id": "59cdb875-bd02-4be6-9fd0-f46bed8d702f"
    },
    {
      "cell_type": "markdown",
      "source": "Word Cloud de los textos seleccionados:",
      "metadata": {},
      "id": "456b0126-ab95-46cc-b421-7219b78456a0"
    },
    {
      "cell_type": "code",
      "source": "textos_seleccionados = ' '.join(train['selected_text'].dropna().values)\nwordcloud = WordCloud(stopwords=stopwords.words('english')).generate(textos_seleccionados)\nplt.imshow(wordcloud, interpolation='bilinear')\nplt.axis('off')\nplt.show()\n",
      "metadata": {},
      "execution_count": null,
      "outputs": [],
      "id": "d6c923ca-963c-4298-a89a-e280d6498c2f"
    }
  ]
}